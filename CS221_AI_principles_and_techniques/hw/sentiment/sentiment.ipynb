{
 "cells": [
  {
   "cell_type": "markdown",
   "metadata": {},
   "source": [
    "# 1 Predicting movie ratings"
   ]
  },
  {
   "cell_type": "markdown",
   "metadata": {},
   "source": [
    "Rotten Tomatoes has classified these reviews as \"positive\" and \"negative\", respectively, as indicated by the intact tomato on the left and the splattered tomato on the right. In this assignment, you will create a simple text classification system that can perform this task automatically.\n",
    "\n",
    "We'll warm up with the following set of four mini-reviews, each labeled positive ($+1$) or negative ($-1$):\n",
    "\n",
    "   ($-1$) pretty bad \\\n",
    "   ($+1$) good plot \\\n",
    "   ($-1$) not good \\\n",
    "   ($+1$) pretty scenery\n",
    "    \n",
    "Each review $x$ is mapped onto a feature vector $\\phi(x)$, which maps each word to the number of occurrences of that word in the review. For example, the first review maps to the (sparse) feature vector $\\phi(x) = \\{\\text{pretty}:1, \\text{bad}:1\\}$. \n",
    "\n",
    "Recall the definition of the hinge loss: $$\\text{Loss}_{\\text{hinge}}(x, y, \\mathbf{w}) = \\max \\{0, 1 - \\mathbf{w} \\cdot \\phi(x) y\\},$$ where $y$ is the correct label.\n",
    "\n",
    "1. Suppose we run stochastic gradient descent, updating the weights according to $$\\mathbf{w} \\leftarrow \\mathbf{w} - \\eta \\nabla_\\mathbf{w} \\text{Loss}_{\\text{hinge}}(x, y, \\mathbf{w}),$$ once for each of the four examples in the order given above. After the classifier is trained on the given four data points, what are the weights of the six words (\"pretty\", \"good\", \"bad\", \"plot\", \"not\", \"scenery\") that appear in the above reviews? Use $\\eta = .5$ as the step size and initialize $\\mathbf{w} = [0, ..., 0]$. Assume that $\\nabla_\\mathbf{w} \\text{Loss}_{\\text{hinge}}(x, y, \\mathbf{w}) = 0$ when the margin is exactly 1."
   ]
  },
  {
   "cell_type": "markdown",
   "metadata": {},
   "source": [
    "*Solution*\n",
    "\n",
    "Expanding the feature vector example:\n",
    "\n",
    "$$\\phi(\\text{pretty bad}) = \\left[\\begin{array}{c} 1\\\\ 1 \\\\ 0 \\\\ 0 \\\\0 \\\\0\\end{array}\\right]\n",
    "                            \\left.\\begin{array}{l} \\leftarrow\\text{pretty}\\\\ \\leftarrow\\text{bad} \\\\ \\leftarrow\\text{good} \\\\ \\leftarrow\\text{plot} \\\\\\leftarrow\\text{not} \\\\\\leftarrow\\text{scenery}\\end{array}\\right.$$"
   ]
  },
  {
   "cell_type": "markdown",
   "metadata": {},
   "source": [
    "And the gradient of the function, as seen on second lecture is\n",
    "\n",
    "$$\\nabla_{\\mathbf w}\\text{Loss}_{\\text{hinge}}(x, y, \\mathbf{w}) = \\left\\{\\begin{array}{ccc}\n",
    "                                              0 & \\text{if} &\\mathbf w\\cdot\\phi(x)\\geq 1 \\\\\n",
    "                                              -\\phi(x)y & \\text{if} &\\mathbf w\\cdot\\phi(x)< 1\n",
    "                                              \\end{array}\\right.$$\n",
    "                                              \n",
    "On the first iteration, the new $\\mathbf w$ will be:\n",
    "\n",
    "$$\\mathbf w \\leftarrow \\left[\\begin{array}{c} 0\\\\ 0 \\\\ 0 \\\\ 0 \\\\0 \\\\0\\end{array}\\right] - 0.5\n",
    "                       \\left[-\\phi(x)y\\right]$$\n",
    "                       \n",
    "Running with $x=$ pretty bad $y=-1$:\n",
    "\n",
    "$$\\mathbf w \\leftarrow \\left[\\begin{array}{c} 0\\\\ 0 \\\\ 0 \\\\ 0 \\\\0 \\\\0\\end{array}\\right] - 0.5\n",
    "                       \\left[\\begin{array}{c} 1\\\\ 1 \\\\ 0\\\\ 0 \\\\0 \\\\0\\end{array}\\right];\n",
    "                       \\hspace{1cm} \\mathbf w = \\left[\\begin{array}{c} -0.5\\\\ -0.5\\\\ 0\\\\ 0 \\\\0 \\\\0\\end{array}\\right]$$\n",
    "                       \n",
    "$x=$ good plot $y=+1$:\n",
    "\n",
    "$$\\mathbf w \\leftarrow \\left[\\begin{array}{c} -0.5\\\\-0.5 \\\\ 0 \\\\ 0 \\\\0 \\\\0\\end{array}\\right] - 0.5\n",
    "                       \\left[\\begin{array}{c} 0\\\\ 0 \\\\ -1\\\\-1 \\\\0 \\\\0\\end{array}\\right];\n",
    "                       \\hspace{1cm} \\mathbf w = \\left[\\begin{array}{c} -0.5\\\\ -0.5\\\\ 0.5\\\\ 0.5 \\\\0 \\\\0\\end{array}\\right]$$\n",
    "                       \n",
    "$x=$ not good $y=-1$:\n",
    "\n",
    "$$\\mathbf w \\leftarrow \\left[\\begin{array}{c} -0.5\\\\-0.5 \\\\0.5 \\\\0.5 \\\\0 \\\\0\\end{array}\\right] - 0.5\n",
    "                       \\left[\\begin{array}{c} 0\\\\ 0 \\\\ 1\\\\0 \\\\1 \\\\0\\end{array}\\right];\n",
    "                       \\hspace{1cm} \\mathbf w = \\left[\\begin{array}{c} -0.5\\\\ -0.5\\\\ 0\\\\ 0.5 \\\\-0.5 \\\\0\\end{array}\\right]$$\n",
    "                       \n",
    "$x=$ pretty scenery $y=+1$:\n",
    "\n",
    "$$\\mathbf w \\leftarrow \\left[\\begin{array}{c} -0.5\\\\ -0.5\\\\ 0\\\\ 0.5 \\\\-0.5 \\\\0\\end{array}\\right] - 0.5\n",
    "                       \\left[\\begin{array}{c} -1\\\\ 0 \\\\ 0\\\\0 \\\\0 \\\\-1\\end{array}\\right];\n",
    "                       \\hspace{1cm} \\mathbf w = \\left[\\begin{array}{c} 0\\\\ -0.5\\\\ 0\\\\ 0.5 \\\\-0.5\\\\0.5\\end{array}\\right]$$"
   ]
  },
  {
   "cell_type": "markdown",
   "metadata": {},
   "source": [
    "After iterating over the small dataset, the weights of the words are: \"pretty\": 0, \"bad\": -0.5, \"good\": 0, \"plot\": 0.5, \"not\": -0.5, \"scenery\": 0.5\n",
    "\n",
    "The following code automates this:"
   ]
  },
  {
   "cell_type": "code",
   "execution_count": 40,
   "metadata": {},
   "outputs": [
    {
     "name": "stdout",
     "output_type": "stream",
     "text": [
      "w: defaultdict(<class 'float'>, {'pretty': -0.5, 'bad': -0.5})\n",
      "w: defaultdict(<class 'float'>, {'pretty': -0.5, 'bad': -0.5, 'good': 0.5, 'plot': 0.5})\n",
      "w: defaultdict(<class 'float'>, {'pretty': -0.5, 'bad': -0.5, 'good': 0.0, 'plot': 0.5, 'not': -0.5})\n",
      "w: defaultdict(<class 'float'>, {'pretty': 0.0, 'bad': -0.5, 'good': 0.0, 'plot': 0.5, 'not': -0.5, 'scenery': 0.5})\n"
     ]
    },
    {
     "data": {
      "text/plain": [
       "0.0"
      ]
     },
     "execution_count": 40,
     "metadata": {},
     "output_type": "execute_result"
    }
   ],
   "source": [
    "from collections import defaultdict\n",
    "from util import dotProduct, increment\n",
    "\n",
    "def scMult(s, v):\n",
    "    return defaultdict(float,{key:s*v[key] for key in v})\n",
    "\n",
    "def phi(x):\n",
    "    return defaultdict(float,{w:x.count(w) for w in x.split()})\n",
    "\n",
    "def gHL(x,y,w):\n",
    "    return scMult(-1*y,phi(x)) if dotProduct(w,scMult(y,phi(x)))<1 else 0\n",
    "\n",
    "examples = [\n",
    "    {'x':'pretty bad', 'y': -1},\n",
    "    {'x':'good plot', 'y': 1},\n",
    "    {'x':'not good', 'y': -1},\n",
    "    {'x':'pretty scenery', 'y': 1}\n",
    "]\n",
    "\n",
    "w = defaultdict(float) #initialize weight vector\n",
    "eta = 0.5              #initialize step size\n",
    "for data in examples:\n",
    "    gLoss = gHL(data['x'],data['y'],w) #calculate gradient of loss of every example\n",
    "    increment(w, -1*eta, gLoss)        #recalculates weight vector\n",
    "    print('w:', w)\n",
    "    \n",
    "dotProduct(w,phi('its a pretty bad plot'))"
   ]
  },
  {
   "cell_type": "markdown",
   "metadata": {},
   "source": [
    "-------------------------------------\n",
    "\n",
    "2. Create a small labeled dataset of four mini-reviews using the words \"not\", \"good\", and \"bad\", where the labels make intuitive sense. Each review should contain one or two words, and no repeated words. Prove that no linear classifier using word features can get zero error on your dataset.\n",
    "\n",
    "Remember that this is a question about classifiers, not optimization algorithms; your proof should be true for any linear classifier, regardless of how the weights are learned.\n",
    "After providing such a dataset, propose a single additional feature that we could augment the feature vector with that would fix this problem. (Hint: think about the linear effect that each feature has on the classification score.)"
   ]
  },
  {
   "cell_type": "markdown",
   "metadata": {},
   "source": [
    "*Solution*\n",
    "\n",
    "In the dataset I describe below (\"new_examples\") we see that, given the restrictions, we have three words and four combinations of those words; this means that at least a word will appear in different examples, so the weights of these features will overlap. We can generalize this idea to every feature vector that implies word features (only in this dataset). If we include non word-related features, such as the length of the given string, would fix this problem (?)"
   ]
  },
  {
   "cell_type": "code",
   "execution_count": 37,
   "metadata": {},
   "outputs": [
    {
     "name": "stdout",
     "output_type": "stream",
     "text": [
      "w: defaultdict(<class 'float'>, {'bad': -0.5})\n",
      "gLoss: defaultdict(<class 'float'>, {'bad': 1})\n",
      "w: defaultdict(<class 'float'>, {'bad': -0.5, 'good': 0.5})\n",
      "gLoss: defaultdict(<class 'float'>, {'good': -1})\n",
      "w: defaultdict(<class 'float'>, {'bad': -0.5, 'good': 0.0, 'not': -0.5})\n",
      "gLoss: defaultdict(<class 'float'>, {'not': 1, 'good': 1})\n",
      "w: defaultdict(<class 'float'>, {'bad': 0.0, 'good': 0.5, 'not': -0.5})\n",
      "gLoss: defaultdict(<class 'float'>, {'bad': -1, 'good': -1})\n"
     ]
    }
   ],
   "source": [
    "new_examples = [\n",
    "    {'x':'bad', 'y': -1},\n",
    "    {'x':'good', 'y': 1},\n",
    "    {'x':'not good', 'y': -1},\n",
    "    {'x':'bad good', 'y': 1}\n",
    "]\n",
    "w = defaultdict(float) #initialize weight vector\n",
    "eta = 0.5              #initialize step size\n",
    "for data in new_examples:\n",
    "    gLoss = gHL(data['x'],data['y'],w) #calculate gradient of loss of every example\n",
    "    increment(w, -1*eta, gLoss)        #recalculates weight vector\n",
    "    print('w:', w)\n",
    "    print('gLoss:', gLoss)"
   ]
  },
  {
   "cell_type": "markdown",
   "metadata": {},
   "source": [
    "------------------------------------------------\n",
    "\n",
    "# 2 Building Intuition\n",
    "\n",
    "Suppose that we are now interested in predicting a numeric rating for movie reviews. We will use a non-linear predictor that takes a movie review $x$ and returns $\\sigma(\\mathbf w \\cdot \\phi(x))$, where $\\sigma(z) = (1 + e^{-z})^{-1}$ is the logistic function that squashes a real number to the range $(0, 1)$. Suppose that we wish to use the squared loss. For this problem, assume that the movie rating $y$ is a real-valued variable in the range $[0, 1]$.\n",
    "Note: Do not use Wolfram Alpha or other math software to solve this problem.\n",
    "\n",
    "1. Write out the expression for $\\text{Loss}(x, y, \\mathbf w)$ for a single datapoint $(x,y)$."
   ]
  },
  {
   "cell_type": "markdown",
   "metadata": {},
   "source": [
    "*Solution*\n",
    "\n",
    "The squared loss function will be the squared difference of the predicted value and the actual value (the residual). That is:\n",
    "\n",
    "$$\\text{Loss}_\\text{squared}(x,y,\\mathbf w) = (\\sigma(\\mathbf w\\cdot\\phi(x))-y)^2$$\n",
    "\n",
    "-------------------------"
   ]
  },
  {
   "cell_type": "markdown",
   "metadata": {},
   "source": [
    "2. Compute the gradient of the loss with respect to $\\mathbf w$. Hint: you can write the answer in terms of the predicted value $p = \\sigma(\\mathbf w \\cdot \\phi(x))$"
   ]
  },
  {
   "cell_type": "markdown",
   "metadata": {},
   "source": [
    "*Solution*\n",
    "\n",
    "Using the chain rule and lecture 3 slides:\n",
    "\n",
    "$$\n",
    "\\begin{align}\n",
    "\\nabla_{\\mathbf w}\\text{Loss}_\\text{squared}(x,y,\\mathbf w) &= 2(\\sigma(\\mathbf w\\cdot\\phi(x))-y)\\sigma(\\mathbf w\\cdot\\phi(x))(1-\\sigma(\\mathbf w\\cdot\\phi(x)))\\cdot\\phi(x) \\\\\n",
    "&= 2(p-y) p(1-p)\\cdot\\phi(x)\n",
    "\\end{align}$$\n",
    "\n",
    "-------------------------------------"
   ]
  },
  {
   "cell_type": "markdown",
   "metadata": {},
   "source": [
    "3. Suppose there is one datapoint (x, y) with some arbitrary $\\phi(x)$ and y = 1. Can you specify conditions for $\\mathbf w$ to make the magnitude of the gradient of the loss with respect to $\\mathbf w$ arbitrarily small (minimize the magnitude of the gradient)? If so, how small? Can the magnitude of the gradient with respect to $\\mathbf w$ ever be exactly zero? You are allowed to make the magnitude of $\\mathbf w$ arbitrarily large but not infinity. Hint: try to understand intuitively what is going on and what each part of the expression contributes. If you find yourself doing too much algebra, you're probably doing something suboptimal.\n",
    "\n",
    "Motivation: the reason why we're interested in the magnitude of the gradients is because it governs how far gradient descent will step. For example, if the gradient is close to zero when $\\mathbf w$ is very far from the optimum, then it could take a long time for gradient descent to reach the optimum (if at all). This is known as the vanishing gradient problem when training neural networks."
   ]
  },
  {
   "attachments": {
    "Screen%20Shot%202020-04-30%20at%2016.41.26.png": {
     "image/png": "[encoded data removed]"
    }
   },
   "cell_type": "markdown",
   "metadata": {},
   "source": [
    "*Solution*\n",
    "\n",
    "The following graph corresponds to $\\sigma(z)$:\n",
    "\n",
    "![Screen%20Shot%202020-04-30%20at%2016.41.26.png](attachment:Screen%20Shot%202020-04-30%20at%2016.41.26.png)\n",
    "\n",
    "I'll focus on the 1-d case in order to generalize it. Refactoring the expression above, with $p = \\sigma(\\mathbf w \\cdot \\phi(x))$ and $y=1$:\n",
    "\n",
    "$$\n",
    "\\begin{align}\n",
    "\\nabla_{\\mathbf w}\\text{Loss}_\\text{squared}(x,1,\\mathbf w) &= 2(p-1) p(1-p)\\cdot\\phi(x) \\\\\n",
    "&= -2p(1-p)^2\\cdot\\phi(x)\n",
    "\\end{align}\n",
    "$$\n",
    "\n",
    "We know that $\\sigma(z) \\in (0,1)$. Then, if we make $p\\rightarrow 1$, the product $-2p(1-p)^2$ will go to zero.  The same argument holds if we make $p\\rightarrow 0$.\n",
    "\n",
    "In order to make $p\\rightarrow 1$, the dot product of $\\mathbf w$ and $\\phi(x)$ must go to $\\infty$; since the $\\phi(x)$ vector is arbitrary, every entry of the weight vector must be arbitrarily large (positive). Analogously, in order to make $p\\rightarrow 0$, every entry of the weight vector must be arbitrarily large (negative).\n",
    "\n",
    "In other words: we can make the magnitude of the gradient vector arbitrarily close to zero by making the magnitude of the weight vector arbitrarily large; since this vector's magnitude is not infinity, the magnitude of the gradient vector will never be zero.\n",
    "\n",
    "-------------------------------------------------------------------"
   ]
  },
  {
   "cell_type": "markdown",
   "metadata": {},
   "source": [
    "4. Assuming the same datapoint (x, y) as above, what is the largest magnitude that the gradient can take? Leave your answer in terms of $\\|\\phi(x)\\|$. Prove that your chosen value is indeed the largest magnitude that the gradient can take."
   ]
  },
  {
   "cell_type": "markdown",
   "metadata": {},
   "source": [
    "*Solution*\n",
    "\n",
    "We'll focus on the value of the function $f(p) = -2p(1-p)^2$, $p\\in (0,1)$. Applying some calculus, we see that this function reaches its maxima at $p=0$ and $p=1$ (supposing it can take values 0 and 1), giving a value of $f(0)=f(1)=0$; the same function reaches its minima at $p=\\frac{1}{3}$, giving a value of $f\\left(\\frac{1}{3}\\right) = -\\frac{8}{27}$. Since we are taking the magnitude, the largest value that the gradient can take will be $\\frac{8}{27}\\left\\|\\phi(x)\\right\\|$\n",
    "\n",
    "-------------------------------------"
   ]
  },
  {
   "cell_type": "markdown",
   "metadata": {},
   "source": [
    "5. The problem with the loss function we have defined so far is that is it is non-convex, which means that gradient descent is not guaranteed to find the global minimum. In general these types of problems can be difficult to solve, so let us try to reformulate the problem as plain old linear regression. Suppose you have a dataset $\\mathbf D$ consisting of $(x,y)$ pairs, and that there exists a weight vector $\\mathbf w$ that yields zero loss on this dataset. The dataset $\\mathbf D$ uses the non-linear predictor (i.e., $\\sigma(\\mathbf w \\cdot \\phi(x))$) as described above. Show that there is an easy transformation to a modified dataset $\\mathbf D'$ of $(x,y')$ pairs such that performing least squares regression (using a linear predictor and the squared loss) on $\\mathbf D'$ converges to a vector $\\mathbf w^*$ that yields zero loss on $\\mathbf D'$. Concretely, write an expression for $y'$ in terms of $y$ and justify this choice. This expression should not be a function of $\\mathbf w$.\n",
    "\n",
    "Hint: write down the loss functions for both datasets and set them equal to 0"
   ]
  },
  {
   "cell_type": "markdown",
   "metadata": {},
   "source": [
    "*Solution*\n",
    "\n",
    "Recall from a problem above that que squared loss with the non-linear predictor is given by:\n",
    "\n",
    "$$\\text{Loss}_{\\text{squared}}(x,y,\\mathbf w) = \\left(\\sigma(\\mathbf w\\cdot\\phi(x))-y\\right)^2$$\n",
    "\n",
    "In order to make the loss zero, the label value $y$ must equals the non-linearity:\n",
    "\n",
    "$$y =\\sigma(\\mathbf w\\cdot\\phi(x)) = \\frac{1}{1+e^{-\\mathbf w\\cdot\\phi(x)}}$$\n",
    "\n",
    "Getting the score value:\n",
    "\n",
    "$$\\mathbf w\\cdot\\phi(x) = -\\ln\\left(\\frac{1}{y}-1\\right)$$\n",
    "\n",
    "If we used this score value as the linear predictor for a new dataset $\\mathbf D'$, we would obtain a zero squared loss. To do so, the new dataset must consist of $(x,y^{\\prime})$ pairs, where:\n",
    "\n",
    "$$y^{\\prime} = -\\ln\\left(\\frac{1}{y}-1\\right)$$\n",
    "\n",
    "In order to get the zero squared loss.\n",
    "\n",
    "------------------------------------------"
   ]
  },
  {
   "cell_type": "markdown",
   "metadata": {},
   "source": [
    "# 3 Sentiment classification\n",
    "\n",
    "In this problem, we will build a binary linear classifier that reads movie reviews and guesses whether they are \"positive\" or \"negative.\" In this problem, you must implement the functions without using libraries like Scikit-learn."
   ]
  },
  {
   "cell_type": "markdown",
   "metadata": {},
   "source": [
    "1. Implement the function extractWordFeatures, which takes a review (string) as input and returns a feature vector $\\phi(x)$ (you should represent the vector $\\phi(x)$ as a dict in Python)."
   ]
  },
  {
   "cell_type": "markdown",
   "metadata": {},
   "source": [
    "*Solution*\n",
    "\n",
    "I've done this in problem 1, so I'll only copy the function and rename it:"
   ]
  },
  {
   "cell_type": "code",
   "execution_count": 52,
   "metadata": {},
   "outputs": [],
   "source": [
    "def extractWordFeatures(x):\n",
    "    \"\"\"\n",
    "    Extract word features for a string x. Words are delimited by\n",
    "    whitespace characters only.\n",
    "    @param string x: \n",
    "    @return dict: feature vector representation of x.\n",
    "    Example: \"I am what I am\" --> {'I': 2, 'am': 2, 'what': 1}\n",
    "    \"\"\"\n",
    "    # BEGIN_YOUR_CODE (our solution is 4 lines of code, but don't worry if you deviate from this)\n",
    "    return defaultdict(float,{w:x.count(w) for w in x.split()})\n",
    "    # END_YOUR_CODE"
   ]
  },
  {
   "cell_type": "markdown",
   "metadata": {},
   "source": [
    "------------------------------------------\n",
    "\n",
    "2. Implement the function learnPredictor using stochastic gradient descent and minimize the hinge loss. Print the training error and test error after each iteration to make sure your code is working. You must get less than 4% error rate on the training set and less than 30% error rate on the dev set to get full credit."
   ]
  },
  {
   "cell_type": "markdown",
   "metadata": {},
   "source": [
    "*Solution*\n",
    "\n",
    "I've also done this in problem 1, so I'll only copy the function and rename it:"
   ]
  },
  {
   "cell_type": "code",
   "execution_count": 99,
   "metadata": {},
   "outputs": [],
   "source": [
    "from collections import defaultdict\n",
    "from util import dotProduct, increment, readExamples, evaluatePredictor\n",
    "import math\n",
    "\n",
    "def scMult(s, v):\n",
    "    '''\n",
    "    Multiply scalar and vector\n",
    "    '''\n",
    "    return defaultdict(float,{key:s*v[key] for key in v})\n",
    "\n",
    "def learnPredictor(trainExamples, testExamples, featureExtractor, numIters, eta):\n",
    "    '''\n",
    "    Given |trainExamples| and |testExamples| (each one is a list of (x,y)\n",
    "    pairs), a |featureExtractor| to apply to x, and the number of iterations to\n",
    "    train |numIters|, the step size |eta|, return the weight vector (sparse\n",
    "    feature vector) learned.\n",
    "\n",
    "    You should implement stochastic gradient descent.\n",
    "\n",
    "    Note: only use the trainExamples for training!\n",
    "    You should call evaluatePredictor() on both trainExamples and testExamples\n",
    "    to see how you're doing as you learn after each iteration.\n",
    "    '''\n",
    "    weights = defaultdict(float)  # feature => weight\n",
    "    # BEGIN_YOUR_CODE (our solution is 12 lines of code, but don't worry if you deviate from this)\n",
    "    def sign(x):\n",
    "        return 1 if dotProduct(weights,featureExtractor(x)) >= 0 else -1\n",
    "    for t in range(numIters):\n",
    "        for d in trainExamples:\n",
    "            gLoss = scMult(-1*d[1],featureExtractor(d[0])) if dotProduct(weights,scMult(d[1],featureExtractor(d[0])))<1 else defaultdict(float)\n",
    "            increment(weights, -1*eta, gLoss)        #recalculates weight vector\n",
    "        print(f'it: {t} | train: {evaluatePredictor(trainExamples,sign)} | test: {evaluatePredictor(testExamples,sign)}')\n",
    "    # END_YOUR_CODE\n",
    "    return weights"
   ]
  },
  {
   "cell_type": "code",
   "execution_count": 155,
   "metadata": {
    "scrolled": true
   },
   "outputs": [
    {
     "name": "stdout",
     "output_type": "stream",
     "text": [
      "Read 3554 examples from polarity.train\n",
      "Read 3554 examples from polarity.dev\n",
      "it: 0 | train: 0.31429375351716377 | test: 0.3764772087788407\n",
      "it: 1 | train: 0.2535171637591446 | test: 0.3429938097917839\n",
      "it: 2 | train: 0.21750140686550365 | test: 0.32639279684862127\n",
      "it: 3 | train: 0.17163759144625773 | test: 0.30838491840180077\n",
      "it: 4 | train: 0.1634777715250422 | test: 0.30388294879009564\n",
      "it: 5 | train: 0.16235227912211592 | test: 0.30894766460326395\n",
      "it: 6 | train: 0.12267867191896455 | test: 0.2864378165447383\n",
      "it: 7 | train: 0.11170512099043331 | test: 0.2847495779403489\n",
      "it: 8 | train: 0.11648846370287 | test: 0.2940348902644907\n",
      "it: 9 | train: 0.09848058525604952 | test: 0.2839054586381542\n",
      "it: 10 | train: 0.09791783905458638 | test: 0.29375351716375914\n",
      "it: 11 | train: 0.0827236916150816 | test: 0.2847495779403489\n",
      "it: 12 | train: 0.09144625773776027 | test: 0.3019133370849747\n",
      "it: 13 | train: 0.07090602138435566 | test: 0.2819358469330332\n",
      "it: 14 | train: 0.05880697805289814 | test: 0.2732132808103545\n",
      "it: 15 | train: 0.06612267867191897 | test: 0.28165447383230163\n",
      "it: 16 | train: 0.057118739448508725 | test: 0.27546426561620707\n",
      "it: 17 | train: 0.055993247045582444 | test: 0.28531232414181207\n",
      "it: 18 | train: 0.050365785030951044 | test: 0.27884074282498594\n",
      "it: 19 | train: 0.04811480022509848 | test: 0.28137310073157007\n",
      "it: 20 | train: 0.0469893078221722 | test: 0.2782779966235228\n",
      "it: 21 | train: 0.04192459200900394 | test: 0.2732132808103545\n",
      "it: 22 | train: 0.038548114800225096 | test: 0.27743387732132807\n",
      "it: 23 | train: 0.03601575689364097 | test: 0.2746201463140124\n",
      "it: 24 | train: 0.03348339898705684 | test: 0.2703995498030388\n",
      "it: 25 | train: 0.032639279684862126 | test: 0.2771525042205965\n",
      "it: 26 | train: 0.028700056274620148 | test: 0.2737760270118177\n",
      "it: 27 | train: 0.029825548677546426 | test: 0.2734946539110861\n",
      "it: 28 | train: 0.028418683173888577 | test: 0.27602701181767025\n",
      "it: 29 | train: 0.025042205965109737 | test: 0.2726505346088914\n",
      "it: 30 | train: 0.027855936972425437 | test: 0.2765897580191334\n",
      "it: 31 | train: 0.030106921778277996 | test: 0.2810917276308385\n",
      "it: 32 | train: 0.0413618458075408 | test: 0.29938097917839057\n",
      "it: 33 | train: 0.018851997749015192 | test: 0.27546426561620707\n",
      "it: 34 | train: 0.029262802476083285 | test: 0.28503095104108045\n",
      "it: 35 | train: 0.026167698368036015 | test: 0.2771525042205965\n",
      "it: 36 | train: 0.016882386043894203 | test: 0.2751828925154755\n",
      "it: 37 | train: 0.022509848058525603 | test: 0.27687113111986494\n",
      "it: 38 | train: 0.017445132245357344 | test: 0.2763083849184018\n",
      "it: 39 | train: 0.016038266741699492 | test: 0.2703995498030388\n",
      "it: 40 | train: 0.029262802476083285 | test: 0.29009566685424876\n",
      "it: 41 | train: 0.021102982554867755 | test: 0.28812605514912776\n",
      "it: 42 | train: 0.015194147439504783 | test: 0.27884074282498594\n",
      "it: 43 | train: 0.013224535734383792 | test: 0.27602701181767025\n",
      "it: 44 | train: 0.021384355655599326 | test: 0.2906584130557119\n",
      "it: 45 | train: 0.015194147439504783 | test: 0.27771525042205963\n",
      "it: 46 | train: 0.017726505346088915 | test: 0.28137310073157007\n",
      "it: 47 | train: 0.012661789532920653 | test: 0.27546426561620707\n",
      "it: 48 | train: 0.023916713562183455 | test: 0.2884074282498593\n",
      "it: 49 | train: 0.010973550928531233 | test: 0.27602701181767025\n"
     ]
    }
   ],
   "source": [
    "train = readExamples('polarity.train')\n",
    "test = readExamples('polarity.dev')\n",
    "w = learnPredictor(train,test,extractWordFeatures,50,.01)"
   ]
  },
  {
   "cell_type": "markdown",
   "metadata": {},
   "source": [
    "-----------------------------------------\n",
    "\n",
    "3. Create an artificial dataset for your learnPredictor function by writing the generateExample function (nested in the generateDataset function). Use this to double check that your learnPredictor works!"
   ]
  },
  {
   "cell_type": "markdown",
   "metadata": {},
   "source": [
    "*Solution*\n",
    "\n",
    "I didnt understand this part :(\n",
    "\n",
    "The generateDataset function is meant to return a list of (dict, label) tuples and the instruction says that we must use this function to evaluate whether learnPredictor function works or not; but the trainExamples parameter of the learnPredictor must be a list of (text, label) tuples! Besides, I think this way of double checking is useless because we'll be using what we've already calculated (the weight vector). (?)\n",
    "\n",
    "In order to give some evidence about my work, I'll just leave here the main ideas to complete the generateDataset function:"
   ]
  },
  {
   "cell_type": "code",
   "execution_count": 128,
   "metadata": {
    "scrolled": true
   },
   "outputs": [
    {
     "data": {
      "text/plain": [
       "{'prostituted': -0.20000000000000004,\n",
       " 'arrest': 0.10999999999999999,\n",
       " 'self-flagellation': -0.20000000000000004,\n",
       " 'concocts': 0.04,\n",
       " 'aggressive': 0.03,\n",
       " \"'korean\": 0.05,\n",
       " \"oprah's\": -0.20000000000000004,\n",
       " 'strengths': 0.03,\n",
       " 'unsubtle': 0.11999999999999998,\n",
       " 'awfully': -0.03,\n",
       " 'beauty': 0.3200000000000001,\n",
       " \"diplomat's\": 0.01,\n",
       " 'indulge': 0.09,\n",
       " 'pastiche': 0.15,\n",
       " 'brothers': -0.06999999999999998,\n",
       " 'clocks': -0.01,\n",
       " 'old': -0.4000000000000002,\n",
       " 'teeth-gnashing': -0.12999999999999998,\n",
       " 'promotes': 0.05,\n",
       " 'advertisement': -0.02,\n",
       " \"'53\": -0.17,\n",
       " 'tv-insider': -0.20000000000000004,\n",
       " \"child's\": 0.20000000000000004,\n",
       " 'showing': -0.09,\n",
       " 'fire-red': -0.13999999999999999,\n",
       " 'light': -0.24000000000000005,\n",
       " 'statesmen': 0.16,\n",
       " 'shinya': 0.09,\n",
       " 'cellular': -0.17,\n",
       " 'papin': 0.08,\n",
       " 'chooses': -0.12999999999999998,\n",
       " 'pulsating': 0.05,\n",
       " 'vs': -0.060000000000000005,\n",
       " 'balm': -0.19000000000000003,\n",
       " 'embodies': 0.17,\n",
       " 'woo': -0.5400000000000003,\n",
       " 'respond': -0.04,\n",
       " '451': -0.20000000000000004,\n",
       " 'thinly': -0.08,\n",
       " 'scrap': 0.12999999999999998,\n",
       " 'last-minute': -0.13999999999999999,\n",
       " 'handed': 0.07,\n",
       " 'cop': 0.16,\n",
       " 'majid': 0.38000000000000006,\n",
       " 'devoid': -0.8200000000000005,\n",
       " 'lighten': -0.02,\n",
       " 'grisly': 0.3900000000000002,\n",
       " 'flame': -0.20000000000000004,\n",
       " 'richard': -0.01,\n",
       " 'gifts': 0.4300000000000002,\n",
       " 'no': -0.38,\n",
       " 'smartly': 0.36000000000000015,\n",
       " 'fascinates': 0.01,\n",
       " 'narc': 0.26000000000000006,\n",
       " 'moustache': 0.18000000000000002,\n",
       " 'intimacy': 0.01,\n",
       " 'nonbelievers': -0.20000000000000004,\n",
       " 'helpful': -0.16,\n",
       " 'close-up': -0.10999999999999999,\n",
       " 'shrieky': -0.09,\n",
       " 'slovenly': -0.01,\n",
       " 'aging': -0.05,\n",
       " 'siren': 0.05,\n",
       " 'motivation': -0.01,\n",
       " 'sophistication': -0.11999999999999998,\n",
       " 'child-rearing': -0.12999999999999998,\n",
       " 'belo': -0.060000000000000005,\n",
       " 'decidedly': -0.03,\n",
       " 'scripted': -0.08,\n",
       " 'unintentionally': -0.3000000000000001,\n",
       " 'world': 0.8100000000000005,\n",
       " 'brief': 0.19000000000000003,\n",
       " \"hoffman's\": -0.10999999999999999,\n",
       " 'water-born': 0.20000000000000004,\n",
       " 'admission': -0.11999999999999998,\n",
       " 'ordinary': 0.03,\n",
       " 'sad': 0.03,\n",
       " 'hokum': -0.37000000000000016,\n",
       " 'beyond': 0.07,\n",
       " \"soul's-eye\": 0.15,\n",
       " 'narcissists': -0.09,\n",
       " 'acting': -0.5600000000000003,\n",
       " \"jeong's\": 0.01,\n",
       " 'eponymous': 0.19000000000000003,\n",
       " 'wind-in-the-hair': 0.19000000000000003,\n",
       " 'bang-bang': 0.07,\n",
       " \"source's\": 0.02,\n",
       " 'immorality': 0.07,\n",
       " 'not': -0.06999999999999997,\n",
       " 'punishable': -0.01,\n",
       " 'dosage': 0.02,\n",
       " \"didn't\": 0.12999999999999998,\n",
       " 'run': 0.07}"
      ]
     },
     "execution_count": 128,
     "metadata": {},
     "output_type": "execute_result"
    }
   ],
   "source": [
    "dict(random.sample(w.items(), random.choice(range(1,100))))"
   ]
  },
  {
   "cell_type": "code",
   "execution_count": null,
   "metadata": {},
   "outputs": [],
   "source": [
    "def generateDataset(numExamples, weights):\n",
    "    '''\n",
    "    Return a set of examples (phi(x), y) randomly which are classified correctly by\n",
    "    |weights|.\n",
    "    '''\n",
    "    random.seed(42)\n",
    "    # Return a single example (phi(x), y).\n",
    "    # phi(x) should be a dict whose keys are a subset of the keys in weights\n",
    "    # and values can be anything (randomize!) with a nonzero score under the given weight vector.\n",
    "    # y should be 1 or -1 as classified by the weight vector.\n",
    "    def generateExample():\n",
    "        # BEGIN_YOUR_CODE (our solution is 2 lines of code, but don't worry if you deviate from this)\n",
    "        # END_YOUR_CODE\n",
    "        return (phi, y)\n",
    "    return [generateExample() for _ in range(numExamples)]"
   ]
  },
  {
   "cell_type": "markdown",
   "metadata": {},
   "source": [
    "-----------------------------------\n",
    "\n",
    "4. When you run the grader.py on test case 3b-2, it should output a weights file and a error-analysis file. Look through some example incorrect predictions and for five of them, give a one-sentence explanation of why the classification was incorrect. What information would the classifier need to get these correct? In some sense, there's not one correct answer, so don't overthink this problem. The main point is to convey intuition about the problem."
   ]
  },
  {
   "cell_type": "markdown",
   "metadata": {},
   "source": [
    "*Solution*\n",
    "\n",
    "I adapted a sign predictor and fed it with random movie reviews I came up with. Here are some results:"
   ]
  },
  {
   "cell_type": "code",
   "execution_count": 232,
   "metadata": {},
   "outputs": [
    {
     "name": "stdout",
     "output_type": "stream",
     "text": [
      "if awful was cool, this movie is pretty cool -1\n",
      "this movie was pretty cool -1\n",
      "bad-ass movie -1\n",
      "well done, assholes 1\n",
      "great way of wasting money 1\n",
      "that was the worst movie i have ever seen -1\n",
      "that was awful -1\n",
      "that was the best movie i have ever seen -1\n"
     ]
    }
   ],
   "source": [
    "def sign(x,w,phi):\n",
    "    return 1 if dotProduct(w,phi(x)) >= 0 else -1\n",
    "\n",
    "examples = [\n",
    "    'if awful was cool, this movie is pretty cool',\n",
    "    'this movie was pretty cool',\n",
    "    'bad-ass movie',\n",
    "    'well done, assholes',\n",
    "    'great way of wasting money',\n",
    "    'that was the worst movie i have ever seen',\n",
    "    'that was awful',\n",
    "    'that was the best movie i have ever seen',\n",
    "]\n",
    "\n",
    "for text in examples:\n",
    "    print(text, sign(text,w,extractWordFeatures))"
   ]
  },
  {
   "cell_type": "markdown",
   "metadata": {},
   "source": [
    "We can see that almost all of them contain some sarcasm and are labeled with an incorrect prediction. I think that we could improve this model by fine-tuning the feature extractor to catch the order of the words, not only their prescence. Also a fuzzy matching of words could help.\n",
    "\n",
    "--------------------------------------------"
   ]
  },
  {
   "cell_type": "markdown",
   "metadata": {},
   "source": [
    "5. Now we will try a crazier feature extractor. Some languages are written without spaces between words. So is splitting the words really necessary or can we just naively consider strings of characters that stretch across words? Implement the function extractCharacterFeatures (by filling in the extract function), which maps each string of $n$ characters to the number of times it occurs, ignoring whitespace (spaces and tabs)."
   ]
  },
  {
   "cell_type": "markdown",
   "metadata": {},
   "source": [
    "*Solution*\n",
    "\n",
    "I used a different structure for the function, since it was wrong. Here's my function:"
   ]
  },
  {
   "cell_type": "code",
   "execution_count": 221,
   "metadata": {},
   "outputs": [],
   "source": [
    "def extractCharacterFeatures(x, n=7):\n",
    "    '''\n",
    "    Return a function that takes a string |x| and returns a sparse feature\n",
    "    vector consisting of all n-grams of |x| without spaces mapped to their n-gram counts.\n",
    "    EXAMPLE: (n = 3) \"I like tacos\" --> {'Ili': 1, 'lik': 1, 'ike': 1, ...\n",
    "    You may assume that n >= 1.\n",
    "    '''\n",
    "    x = x.replace(' ','')\n",
    "    def generate_ngrams(s, n):\n",
    "        tokens = [token for token in s if token != \"\"]\n",
    "        ngrams = zip(*[tokens[i:] for i in range(n)])\n",
    "        return [\"\".join(ngram) for ngram in ngrams]\n",
    "    ngrams = generate_ngrams(x,n)\n",
    "    return defaultdict(float,{ngram:ngrams.count(ngram) for ngram in ngrams})"
   ]
  },
  {
   "cell_type": "markdown",
   "metadata": {},
   "source": [
    "----------------------------------\n",
    "\n",
    "6. Run your linear predictor with feature extractor extractCharacterFeatures. Experiment with different values of $n$ to see which one produces the smallest test error. You should observe that this error is nearly as small as that produced by word features. How do you explain this?\n",
    "\n",
    "Construct a review (one sentence max) in which character  $n-$grams probably outperform word features, and briefly explain why this is so."
   ]
  },
  {
   "cell_type": "markdown",
   "metadata": {},
   "source": [
    "*Solution*\n",
    "\n",
    "On the following code blocks I'll leave the logs, so you can see which value of n outperformed the others."
   ]
  },
  {
   "cell_type": "code",
   "execution_count": 214,
   "metadata": {},
   "outputs": [
    {
     "name": "stdout",
     "output_type": "stream",
     "text": [
      "it: 0 | train: 0.21834552616769837 | test: 0.3562183455261677\n",
      "it: 1 | train: 0.15081598199212154 | test: 0.3337084974676421\n",
      "it: 2 | train: 0.12099043331457512 | test: 0.3337084974676421\n",
      "it: 3 | train: 0.07343837929093978 | test: 0.31541924592009\n",
      "it: 4 | train: 0.06893640967923466 | test: 0.3221722003376477\n",
      "it: 5 | train: 0.04642656162070906 | test: 0.3176702307259426\n",
      "it: 6 | train: 0.032357906584130555 | test: 0.3134496342149691\n",
      "it: 7 | train: 0.030106921778277996 | test: 0.31513787281935846\n",
      "it: 8 | train: 0.023916713562183455 | test: 0.317388857625211\n",
      "it: 9 | train: 0.017445132245357344 | test: 0.3120427687113112\n",
      "it: 10 | train: 0.013787281935846933 | test: 0.3134496342149691\n",
      "it: 11 | train: 0.011817670230725942 | test: 0.3185143500281373\n",
      "it: 12 | train: 0.0075970737197523916 | test: 0.31823297692740576\n",
      "it: 13 | train: 0.0075970737197523916 | test: 0.31907709622960045\n",
      "it: 14 | train: 0.007034327518289252 | test: 0.31541924592009\n",
      "it: 15 | train: 0.005627462014631401 | test: 0.319358469330332\n",
      "it: 16 | train: 0.004783342712436691 | test: 0.3176702307259426\n",
      "it: 17 | train: 0.004220596510973551 | test: 0.3207653348339899\n",
      "it: 18 | train: 0.004220596510973551 | test: 0.31654473832301633\n",
      "it: 19 | train: 0.0028137310073157004 | test: 0.3159819921215532\n"
     ]
    }
   ],
   "source": [
    "#n=3\n",
    "new_w = learnPredictor(train,test,extractCharacterFeatures,20,.01)"
   ]
  },
  {
   "cell_type": "code",
   "execution_count": 210,
   "metadata": {
    "scrolled": false
   },
   "outputs": [
    {
     "name": "stdout",
     "output_type": "stream",
     "text": [
      "it: 0 | train: 0.09088351153629713 | test: 0.27940348902644907\n",
      "it: 1 | train: 0.027855936972425437 | test: 0.28137310073157007\n",
      "it: 2 | train: 0.009003939223410242 | test: 0.27940348902644907\n",
      "it: 3 | train: 0.005627462014631401 | test: 0.27771525042205963\n",
      "it: 4 | train: 0.0028137310073157004 | test: 0.27884074282498594\n",
      "it: 5 | train: 0.0019696117051209903 | test: 0.27884074282498594\n",
      "it: 6 | train: 0.0008441193021947102 | test: 0.28165447383230163\n",
      "it: 7 | train: 0.0005627462014631402 | test: 0.27884074282498594\n",
      "it: 8 | train: 0.0002813731007315701 | test: 0.2810917276308385\n",
      "it: 9 | train: 0.0 | test: 0.28165447383230163\n",
      "it: 10 | train: 0.0 | test: 0.28081035453010694\n",
      "it: 11 | train: 0.0 | test: 0.2799662352279122\n",
      "it: 12 | train: 0.0 | test: 0.27884074282498594\n",
      "it: 13 | train: 0.0 | test: 0.28165447383230163\n",
      "it: 14 | train: 0.0 | test: 0.28165447383230163\n",
      "it: 15 | train: 0.0 | test: 0.27968486212718063\n",
      "it: 16 | train: 0.0 | test: 0.2824985931344963\n",
      "it: 17 | train: 0.0 | test: 0.2830613393359595\n",
      "it: 18 | train: 0.0 | test: 0.28165447383230163\n",
      "it: 19 | train: 0.0 | test: 0.28418683173888576\n"
     ]
    }
   ],
   "source": [
    "#n=4\n",
    "new_w = learnPredictor(train,test,extractCharacterFeatures,20,.01)"
   ]
  },
  {
   "cell_type": "code",
   "execution_count": 212,
   "metadata": {
    "scrolled": true
   },
   "outputs": [
    {
     "name": "stdout",
     "output_type": "stream",
     "text": [
      "it: 0 | train: 0.0498030388294879 | test: 0.27884074282498594\n",
      "it: 1 | train: 0.010973550928531233 | test: 0.27968486212718063\n",
      "it: 2 | train: 0.0022509848058525606 | test: 0.2734946539110861\n",
      "it: 3 | train: 0.0022509848058525606 | test: 0.27124366910523356\n",
      "it: 4 | train: 0.0008441193021947102 | test: 0.26927405740011257\n",
      "it: 5 | train: 0.0008441193021947102 | test: 0.2723691615081598\n",
      "it: 6 | train: 0.0002813731007315701 | test: 0.27743387732132807\n",
      "it: 7 | train: 0.0 | test: 0.2743387732132808\n",
      "it: 8 | train: 0.0 | test: 0.27687113111986494\n",
      "it: 9 | train: 0.0 | test: 0.2751828925154755\n",
      "it: 10 | train: 0.0 | test: 0.2743387732132808\n",
      "it: 11 | train: 0.0 | test: 0.27546426561620707\n",
      "it: 12 | train: 0.0 | test: 0.2732132808103545\n",
      "it: 13 | train: 0.0 | test: 0.2726505346088914\n",
      "it: 14 | train: 0.0 | test: 0.2732132808103545\n",
      "it: 15 | train: 0.0 | test: 0.2734946539110861\n",
      "it: 16 | train: 0.0 | test: 0.2737760270118177\n",
      "it: 17 | train: 0.0 | test: 0.2734946539110861\n",
      "it: 18 | train: 0.0 | test: 0.2737760270118177\n",
      "it: 19 | train: 0.0 | test: 0.2737760270118177\n"
     ]
    }
   ],
   "source": [
    "#n=5\n",
    "new_w = learnPredictor(train,test,extractCharacterFeatures,20,.01)"
   ]
  },
  {
   "cell_type": "code",
   "execution_count": 216,
   "metadata": {},
   "outputs": [
    {
     "name": "stdout",
     "output_type": "stream",
     "text": [
      "it: 0 | train: 0.029262802476083285 | test: 0.2923466516601013\n",
      "it: 1 | train: 0.005064715813168261 | test: 0.2785593697242544\n",
      "it: 2 | train: 0.0014068655036578502 | test: 0.2751828925154755\n",
      "it: 3 | train: 0.0011254924029262803 | test: 0.2771525042205965\n",
      "it: 4 | train: 0.0002813731007315701 | test: 0.27293190770962295\n",
      "it: 5 | train: 0.0002813731007315701 | test: 0.2732132808103545\n",
      "it: 6 | train: 0.0 | test: 0.2718064153066967\n",
      "it: 7 | train: 0.0 | test: 0.2723691615081598\n",
      "it: 8 | train: 0.0 | test: 0.2751828925154755\n",
      "it: 9 | train: 0.0 | test: 0.2751828925154755\n",
      "it: 10 | train: 0.0 | test: 0.2734946539110861\n",
      "it: 11 | train: 0.0 | test: 0.2732132808103545\n",
      "it: 12 | train: 0.0 | test: 0.2726505346088914\n",
      "it: 13 | train: 0.0 | test: 0.2732132808103545\n",
      "it: 14 | train: 0.0 | test: 0.27405740011254925\n",
      "it: 15 | train: 0.0 | test: 0.27490151941474394\n",
      "it: 16 | train: 0.0 | test: 0.2746201463140124\n",
      "it: 17 | train: 0.0 | test: 0.2737760270118177\n",
      "it: 18 | train: 0.0 | test: 0.2737760270118177\n",
      "it: 19 | train: 0.0 | test: 0.2726505346088914\n"
     ]
    }
   ],
   "source": [
    "#n=6\n",
    "new_w = learnPredictor(train,test,extractCharacterFeatures,20,.01)"
   ]
  },
  {
   "cell_type": "code",
   "execution_count": 225,
   "metadata": {},
   "outputs": [
    {
     "name": "stdout",
     "output_type": "stream",
     "text": [
      "it: 0 | train: 0.017445132245357344 | test: 0.2988182329769274\n",
      "it: 1 | train: 0.0033764772087788407 | test: 0.28137310073157007\n",
      "it: 2 | train: 0.0011254924029262803 | test: 0.2763083849184018\n",
      "it: 3 | train: 0.0005627462014631402 | test: 0.26814856499718626\n",
      "it: 4 | train: 0.0002813731007315701 | test: 0.2706809229037704\n",
      "it: 5 | train: 0.0002813731007315701 | test: 0.2718064153066967\n",
      "it: 6 | train: 0.0002813731007315701 | test: 0.27152504220596513\n",
      "it: 7 | train: 0.0002813731007315701 | test: 0.27124366910523356\n",
      "it: 8 | train: 0.0002813731007315701 | test: 0.2718064153066967\n",
      "it: 9 | train: 0.0002813731007315701 | test: 0.27152504220596513\n",
      "it: 10 | train: 0.0002813731007315701 | test: 0.2718064153066967\n",
      "it: 11 | train: 0.0002813731007315701 | test: 0.27011817670230726\n",
      "it: 12 | train: 0.0002813731007315701 | test: 0.2706809229037704\n",
      "it: 13 | train: 0.0002813731007315701 | test: 0.2706809229037704\n",
      "it: 14 | train: 0.0002813731007315701 | test: 0.27096229600450195\n",
      "it: 15 | train: 0.0002813731007315701 | test: 0.27096229600450195\n",
      "it: 16 | train: 0.0002813731007315701 | test: 0.27096229600450195\n",
      "it: 17 | train: 0.0002813731007315701 | test: 0.27096229600450195\n",
      "it: 18 | train: 0.0002813731007315701 | test: 0.2706809229037704\n",
      "it: 19 | train: 0.0002813731007315701 | test: 0.2706809229037704\n"
     ]
    }
   ],
   "source": [
    "#n=7\n",
    "new_w = learnPredictor(train,test,extractCharacterFeatures,20,.01)"
   ]
  },
  {
   "cell_type": "code",
   "execution_count": 220,
   "metadata": {},
   "outputs": [
    {
     "name": "stdout",
     "output_type": "stream",
     "text": [
      "it: 0 | train: 0.010692177827799663 | test: 0.3007878446820484\n",
      "it: 1 | train: 0.0030951041080472708 | test: 0.2985368598761958\n",
      "it: 2 | train: 0.0008441193021947102 | test: 0.29178390545863814\n",
      "it: 3 | train: 0.0005627462014631402 | test: 0.2940348902644907\n",
      "it: 4 | train: 0.0005627462014631402 | test: 0.2906584130557119\n",
      "it: 5 | train: 0.0005627462014631402 | test: 0.2926280247608329\n",
      "it: 6 | train: 0.0005627462014631402 | test: 0.29178390545863814\n",
      "it: 7 | train: 0.0005627462014631402 | test: 0.2915025323579066\n",
      "it: 8 | train: 0.0005627462014631402 | test: 0.2926280247608329\n",
      "it: 9 | train: 0.0005627462014631402 | test: 0.2934721440630276\n",
      "it: 10 | train: 0.0005627462014631402 | test: 0.2920652785593697\n",
      "it: 11 | train: 0.0005627462014631402 | test: 0.2920652785593697\n",
      "it: 12 | train: 0.0005627462014631402 | test: 0.29178390545863814\n",
      "it: 13 | train: 0.0005627462014631402 | test: 0.29178390545863814\n",
      "it: 14 | train: 0.0005627462014631402 | test: 0.2920652785593697\n",
      "it: 15 | train: 0.0005627462014631402 | test: 0.2923466516601013\n",
      "it: 16 | train: 0.0005627462014631402 | test: 0.29290939786156445\n",
      "it: 17 | train: 0.0005627462014631402 | test: 0.2926280247608329\n",
      "it: 18 | train: 0.0005627462014631402 | test: 0.2926280247608329\n",
      "it: 19 | train: 0.0005627462014631402 | test: 0.2926280247608329\n"
     ]
    }
   ],
   "source": [
    "#n=8\n",
    "new_w = learnPredictor(train,test,extractCharacterFeatures,20,.01)"
   ]
  },
  {
   "cell_type": "markdown",
   "metadata": {},
   "source": [
    "We can see that the train and test errors are smaller than the ones obtained with extractWordFeatures. I think this happens because we're now counting the order of the words. See that when $n=7$, we obtain the best value. This means that the length of the words in the training set is around 7."
   ]
  },
  {
   "cell_type": "code",
   "execution_count": 231,
   "metadata": {},
   "outputs": [
    {
     "name": "stdout",
     "output_type": "stream",
     "text": [
      "if awful was cool, this movie is pretty cool -1 -1\n",
      "this movie was pretty cool -1 -1\n",
      "bad-ass movie -1 -1\n",
      "well done, assholes 1 1\n",
      "great way of wasting money 1 -1\n",
      "that was the worst movie i have ever seen -1 -1\n",
      "that was awful -1 -1\n",
      "that was the best movie i have ever seen -1 1\n"
     ]
    }
   ],
   "source": [
    "examples = [\n",
    "    'if awful was cool, this movie is pretty cool',\n",
    "    'this movie was pretty cool',\n",
    "    'bad-ass movie',\n",
    "    'well done, assholes',\n",
    "    'great way of wasting money',\n",
    "    'that was the worst movie i have ever seen',\n",
    "    'that was awful',\n",
    "    'that was the best movie i have ever seen',\n",
    "]\n",
    "for text in examples:\n",
    "    print(text, sign(text,w,extractWordFeatures),sign(text,new_w,extractCharacterFeatures))"
   ]
  },
  {
   "cell_type": "markdown",
   "metadata": {},
   "source": [
    "As I explained, the $n-$gram feature extractor outperforms the word feature extractor because it considers the order of the words.\n",
    "\n",
    "----------------------------------------------------------"
   ]
  },
  {
   "cell_type": "markdown",
   "metadata": {},
   "source": [
    "# 4 K-means clustering\n",
    "\n",
    "Suppose we have a feature extractor $\\phi$ that produces 2-dimensional feature vectors, and a toy dataset $\\mathcal D_\\text{train} = \\{x_1, x_2, x_3, x_4\\}$ with\n",
    "1. $\\phi(x_1) = [1, 0]$\n",
    "2. $\\phi(x_2) = [1, 2]$\n",
    "3. $\\phi(x_3) = [3, 0]$\n",
    "4. $\\phi(x_4) = [2, 2]$"
   ]
  },
  {
   "cell_type": "markdown",
   "metadata": {},
   "source": [
    "1. Run 2-means on this dataset until convergence. Please show your work. What are the final cluster assignments $z$ and cluster centers $\\mu$? Run this algorithm twice with the following initial centers:\n",
    "    1. $\\mu_1 = [2, 3]$ and $\\mu_2 = [2, -1]$\n",
    "    2. $\\mu_1 = [0, 1]$ and $\\mu_2 = [3, 2]$"
   ]
  }
 ],
 "metadata": {
  "kernelspec": {
   "display_name": "playground",
   "language": "python",
   "name": "playground"
  },
  "language_info": {
   "codemirror_mode": {
    "name": "ipython",
    "version": 3
   },
   "file_extension": ".py",
   "mimetype": "text/x-python",
   "name": "python",
   "nbconvert_exporter": "python",
   "pygments_lexer": "ipython3",
   "version": "3.7.7"
  }
 },
 "nbformat": 4,
 "nbformat_minor": 4
}
