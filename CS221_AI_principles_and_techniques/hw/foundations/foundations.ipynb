{
 "cells": [
  {
   "cell_type": "markdown",
   "metadata": {},
   "source": [
    "# 1 Optimization and probability"
   ]
  },
  {
   "cell_type": "markdown",
   "metadata": {},
   "source": [
    "1. Let $x_1, \\dots, x_n$ be real numbers representing positions on a number line. Let $w_1, \\dots, w_n$ be positive real numbers representing the importance of each of these positions. Consider the quadratic function: $f(\\theta) = \\frac{1}{2} \\sum_{i=1}^n w_i (\\theta - x_i)^2$. What value of $\\theta$ minimizes $f(\\theta)$? What problematic issues could arise if some of the $w_i$'s are negative?\n",
    "Note: You can think about this problem as trying to find the point $\\theta$ that's not too far away from the $x_i$'s. Over time, hopefully you'll appreciate how nice quadratic functions are to minimize."
   ]
  },
  {
   "cell_type": "markdown",
   "metadata": {},
   "source": [
    "*Solution*\n",
    "\n",
    "\n",
    "We'll find a local minima whenever the derivative of the function equals zero. Obtaining the first derivative:\n",
    "\n",
    "$$\n",
    "\\begin{align}\n",
    "f^{\\prime}(\\theta) &= \\frac{1}{2}\\sum_{i=1}^n 2w_i(\\theta-x_i) \\\\\n",
    "                   &= \\sum_{i=1}^n w_i(\\theta-x_i) \\\\\n",
    "                   &= \\theta\\sum_{i=1}^n w_i -\\sum_{i=1}^n w_ix_i\n",
    "\\end{align}\n",
    "$$\n",
    "\n",
    "And:\n",
    "\n",
    "$$\n",
    "\\begin{align}\n",
    "\\theta\\sum_{i=1}^n w_i -\\sum_{i=1}^n w_ix_i &= 0 \\\\\n",
    "\\Rightarrow \\theta &= \\frac{\\sum_{i=1}^n w_ix_i}{\\sum_{i=1}^n w_i}\n",
    "\\end{align}\n",
    "$$\n",
    "\n",
    "In order for that value of theta to be a local minima, the second derivative evaluated there must be positive. Calculating the second derivative:\n",
    "\n",
    "$$\n",
    "\\begin{align}\n",
    "f^{\\prime\\prime}(\\theta) &= \\sum_{i=1}^n w_i\n",
    "\\end{align}\n",
    "$$\n",
    "\n",
    "If some of the $w_i$'s are negative, there could happen that (depending on the negative magnitude) the whole sum gets a negative value, and a local minima won't be possible.\n",
    "\n",
    "I think $\\theta$ is the a distance to all the $x_i$'s with their respective weights. We want to minimize it.\n",
    "\n",
    "----------------------------------------------"
   ]
  },
  {
   "cell_type": "markdown",
   "metadata": {},
   "source": [
    "2. In this class, there will be a lot of sums and maxes. Let's see what happens if we switch the order. Let $f(\\mathbf x) = \\sum_{i=1}^d \\max_{s \\in \\{1,-1\\}} s x_i$ and $g(\\mathbf x) = \\max_{s \\in \\{1,-1\\}} \\sum_{i=1}^d s x_i$, where $\\mathbf x = (x_1, \\dots, x_d) \\in \\mathbb{R}^d$ is a real vector. Does $f(\\mathbf x) \\le g(\\mathbf x)$, $f(\\mathbf x) = g(\\mathbf x)$, or $f(\\mathbf x) \\ge g(\\mathbf x)$ hold for all $\\mathbf x$? Prove it.\n",
    "Hint: You may find it helpful to refactor the expressions so that they are maximizing the same quantity over different sized sets."
   ]
  },
  {
   "cell_type": "markdown",
   "metadata": {},
   "source": [
    "*Solution*\n",
    "\n",
    "Let $S$ be the value $s\\in\\{1,-1\\}$ that maximizes $g(\\mathbf x)$. Then, for every $i$:\n",
    "\n",
    "$$Sx_i\\leq \\max_{s\\in\\{1,-1\\}}sx_i$$\n",
    "\n",
    "So it clearly holds that $g(\\mathbf x)\\leq f(\\mathbf x)$ for all $\\mathbf x$\n",
    "\n",
    "-------------------------------------------"
   ]
  },
  {
   "cell_type": "markdown",
   "metadata": {},
   "source": [
    "3. Suppose you repeatedly roll a fair six-sided die until you roll a $1$ (and then you stop). Every time you roll a $2$, you lose $a$ points, and every time you roll a 6, you win $b$ points. You do not win or lose any points if you roll a 3, 4, or a 5. What is the expected number of points (as a function of $a$ and $b$) you will have when you stop?\n",
    "Hint: it is recommended to think of defining a recurrence."
   ]
  },
  {
   "cell_type": "markdown",
   "metadata": {},
   "source": [
    "*Solution*\n",
    "\n",
    "Let $X$ be the random variable that describes the number of points obtained in a roll. That is:\n",
    "\n",
    "$$X = \\left\\{\\begin{array}{ccc}\n",
    "        -a & \\mbox{if} & \\mbox{dice rolls 2} \\\\\n",
    "        b & \\mbox{if} & \\mbox{dice rolls 6}\n",
    "        \\end{array}\n",
    "        \\right.\n",
    "$$\n",
    "Its expected value is:\n",
    "$$\n",
    "\\begin{align}\n",
    "E[X] &= -a\\left(\\frac{1}{6}\\right)+b\\left(\\frac{1}{6}\\right) \\\\\n",
    "     &= \\frac{b-a}{6}\n",
    "\\end{align}$$\n",
    "\n",
    "Let $p_i$ be the expected number of points at a given time $i$. It is clear that $p_1 = E[X] = \\frac{b-a}{6}$. Then:\n",
    "\n",
    "$$\n",
    "p_i = \\left\\{\\begin{array}{ccc}\n",
    "        \\frac{b-a}{6} & \\mbox{if} & i=1 \\\\\n",
    "        p_{i-1}+\\frac{b-a}{6} & \\mbox{if} & i>1\n",
    "        \\end{array}\n",
    "        \\right.\n",
    "$$\n",
    "\n",
    "On the other side, we can model the number of rolls it takes to finish the game as a random variable with a geometric distribution with $p = \\frac{1}{6}$. The expected number of rolls it takes to finish the game is $\\frac{1}{p} = 6$. So, after six games, the expected score is $p_6 = 6\\left(\\frac{b-a}{6}\\right) = b-a$\n",
    "\n",
    "Here's a simulation:"
   ]
  },
  {
   "cell_type": "code",
   "execution_count": 25,
   "metadata": {},
   "outputs": [
    {
     "data": {
      "text/plain": [
       "-0.000378"
      ]
     },
     "execution_count": 25,
     "metadata": {},
     "output_type": "execute_result"
    }
   ],
   "source": [
    "import random\n",
    "\n",
    "scores = []\n",
    "for rep in range(1000000):\n",
    "    score = 0\n",
    "    roll = random.choice([1,2,3,4,5,6])\n",
    "    while roll != 1:\n",
    "        if roll == 2:\n",
    "            score -= 3 ##some a value\n",
    "        elif roll == 6:\n",
    "            score += 3 ##some b value\n",
    "        roll = random.choice([1,2,3,4,5,6])\n",
    "    scores.append(score)\n",
    "    \n",
    "sum(scores)/len(scores)"
   ]
  },
  {
   "cell_type": "markdown",
   "metadata": {},
   "source": [
    "------------------------------------\n",
    "\n",
    "4. Suppose the probability of a coin turning up heads is $0 \\lt p \\lt 1$, and that we flip it 7 times and get $\\{ \\text{H}, \\text{H}, \\text{T}, \\text{H}, \\text{T} , \\text{T}, \\text{H} \\}$. We know the probability (likelihood) of obtaining this sequence is $L(p) = p p (1-p) p (1-p) (1-p) p = p^4(1-p)^3$. What value of $p$ maximizes $L(p)$? What is an intuitive interpretation of this value of $p$?\n",
    "Hint: Consider taking the derivative of $\\log L(p)$. You can also directly take the derivative of $L(p)$, but it is cleaner and more natural to differentiate $\\log L(p)$. You can verify for yourself that the value of $p$ which maximizes $\\log L(p)$ must also maximize $L(p)$ (you are not required to prove this in your solution)."
   ]
  },
  {
   "cell_type": "markdown",
   "metadata": {},
   "source": [
    "*Solution*\n",
    "\n",
    "Let $f:\\mathbb R \\rightarrow (0,1)$ and $f(M)$ its maximum value and let $g(x) = \\log f(x)$. We want to prove that if $f$ has a local minima or maxima in $x=M$, then $g$ has its minima or maxima in $x=M$ too.\n",
    "\n",
    "If $f$ has a critical point at $x=c$ (i.e., $f^{\\prime}(c)=0$), then $g$ has a critical point in $x=c$. This follows from the chain rule:\n",
    "\n",
    "$$g^{\\prime}(x) = \\frac{f^{\\prime}(x)}{f(x)}$$\n",
    "\n",
    "Then:\n",
    "\n",
    "$$\n",
    "\\begin{align}\n",
    "g^{\\prime\\prime}(x) &= \\frac{f(x)f^{\\prime\\prime}(x)-2f^{\\prime}(x)}{[f(x)]^2} \\\\\n",
    "g^{\\prime\\prime}(M) &= \\frac{f^{\\prime\\prime}(M)}{f(M)}\n",
    "\\end{align}\n",
    "$$\n",
    "\n",
    "Since $f$ has its minimum/maximum value at $M$ and $f$ is positive over the real line, $g^{\\prime\\prime}$ inherits its sign, which completes the proof. (ish)\n",
    "\n",
    "Now, in order to find the value that maximizes $\\log L(p)$ we need to compute its derivatives:\n",
    "\n",
    "$$\n",
    "\\begin{align}\n",
    "\\frac{d}{dx}[\\log L(p)] &= \\frac{4(1-p)-3p}{p(1-p)} \\\\\n",
    "                        &= \\frac{4-7p}{p(1-p)}\n",
    "\\end{align}\n",
    "$$\n",
    "\n",
    "And reaches its maxima at:\n",
    "\n",
    "$$\n",
    "\\begin{align}\n",
    "\\frac{4-7p}{p(1-p)} &= 0\\\\\n",
    "\\Rightarrow p &= \\frac{4}{7}\n",
    "\\end{align}\n",
    "$$\n",
    "\n",
    "This value of $p$ is the one that maximizes the ocurrence of the event $\\{ \\text{H}, \\text{H}, \\text{T}, \\text{H}, \\text{T} , \\text{T}, \\text{H} \\}$\n",
    "\n",
    "--------------------------------------------------"
   ]
  },
  {
   "cell_type": "markdown",
   "metadata": {},
   "source": [
    "5. Let's practice taking gradients, which is a key operation for being able to optimize continuous functions. For $\\mathbf w \\in \\mathbb R^d$ (represented as a column vector) and constants $\\mathbf a_i, \\mathbf b_j \\in \\mathbb R^d$ (also represented as column vectors) and $\\lambda \\in \\mathbb R$, define the scalar-valued function $$f(\\mathbf w) = \\sum_{i=1}^n \\sum_{j=1}^n (\\mathbf a_i^\\top \\mathbf w - \\mathbf b_j^\\top \\mathbf w)^2 + \\lambda \\|\\mathbf w\\|_2^2,$$ where the vector is $\\mathbf w = (w_1, \\dots, w_d)^\\top$ and $\\|\\mathbf w\\|_2 = \\sqrt{\\sum_{k=1}^d w_k^2}$ is known as the $L_2$ norm. Compute the gradient $\\nabla f(\\mathbf w)$.\n",
    "Recall: the gradient is a $d$-dimensional vector of the partial derivatives with respect to each $w_i$: $$\\nabla f(\\mathbf w) = \\left(\\frac{\\partial f(\\mathbf w)}{\\partial w_1}, \\dots \\frac{\\partial f(\\mathbf w)}{\\partial w_d}\\right)^\\top.$$ If you're not comfortable with vector calculus, first warm up by working out this problem using scalars in place of vectors and derivatives in place of gradients. Not everything for scalars goes through for vectors, but the two should at least be consistent with each other (when $d=1$). Do not write out summation over dimensions, because that gets tedious."
   ]
  },
  {
   "cell_type": "markdown",
   "metadata": {},
   "source": [
    "*Solution*\n",
    "\n",
    "We can refactor $f$ in order to solve this problem and leave it prepared for problem 2.4 (yeah, I cheated a little):\n",
    "$$\n",
    "\\begin{align}\n",
    "f(\\mathbf w) &=\\sum_{i=1}^n\\sum_{j=1}^n \\left((\\mathbf a_i-\\mathbf b_j)^\\top\\mathbf w\\right)^2+ \\lambda \\|\\mathbf w\\|_2^2 \\\\\n",
    "&=\\sum_{i=1}^n\\sum_{j=1}^n \\left((\\mathbf a_i-\\mathbf b_j)^\\top\\mathbf w(\\mathbf a_i-\\mathbf b_j)^\\top\\mathbf w\\right)+ \\lambda \\|\\mathbf w\\|_2^2 \\\\\n",
    "&=\\sum_{i=1}^n\\sum_{j=1}^n \\left(\\mathbf w^\\top(\\mathbf a_i-\\mathbf b_j)(\\mathbf a_i-\\mathbf b_j)^\\top\\mathbf w\\right)+ \\lambda \\|\\mathbf w\\|_2^2 \\\\\n",
    "\\end{align}\n",
    "$$\n",
    "\n",
    "Now, as the derivative of a sum is the sum of the derivatives and keeping in mind the following (taken from the review):\n",
    "\n",
    "$$\n",
    "\\begin{equation}\n",
    "\\nabla_{\\mathbf w} \\mathbf a\\cdot\\mathbf w = \\mathbf a \\\\\n",
    "\\nabla_{\\mathbf w} \\|\\mathbf w\\|_2^2 = \\nabla_{\\mathbf w}\\mathbf w\\cdot\\mathbf w = 2\\mathbf w\\\\\n",
    "\\nabla_{\\mathbf w} \\mathbf w^\\top C\\mathbf w = (C+C^\\top)\\mathbf w \n",
    "\\end{equation}\n",
    "$$\n",
    "Then the gradient is\n",
    "$$\n",
    "\\begin{align}\n",
    "\\nabla f(\\mathbf w) &=\\sum_{i=1}^n\\sum_{j=1}^n \\nabla_{\\mathbf w}\\left(\\mathbf w^\\top(\\mathbf a_i-\\mathbf b_j)(\\mathbf a_i-\\mathbf b_j)^\\top\\mathbf w\\right)+ \\nabla_{\\mathbf w}\\lambda \\|\\mathbf w\\|_2^2\\\\\n",
    "& = \\sum_{i=1}^n\\sum_{j=1}^n \\left((\\mathbf a_i - \\mathbf b_j)(\\mathbf a_i-\\mathbf b_j)^\\top+\\left((\\mathbf a_i - \\mathbf b_j)(\\mathbf a_i-\\mathbf b_j)^\\top\\right)^\\top\\right)\\mathbf w + 2\\lambda\\mathbf w \\\\\n",
    "& = \\sum_{i=1}^n\\sum_{j=1}^n \\left((\\mathbf a_i - \\mathbf b_j)(\\mathbf a_i-\\mathbf b_j)^\\top+(\\mathbf a_i - \\mathbf b_j)(\\mathbf a_i-\\mathbf b_j)^\\top\\right)\\mathbf w + 2\\lambda\\mathbf w \\\\\n",
    "& = \\sum_{i=1}^n\\sum_{j=1}^n 2(\\mathbf a_i -\\mathbf b_j)(\\mathbf a_i-\\mathbf b_j)^\\top\\mathbf w + 2\\lambda\\mathbf w \\\\\n",
    "\\end{align}\n",
    "$$\n",
    "\n",
    "-------------------------------------------------"
   ]
  },
  {
   "cell_type": "markdown",
   "metadata": {},
   "source": [
    "# 2 Complexity "
   ]
  },
  {
   "cell_type": "markdown",
   "metadata": {},
   "source": [
    "1. Suppose we have an image of a human face consisting of $n \\times n$ pixels. In our simplified setting, a face consists of two eyes, two ears, one nose, and one mouth, each represented as an arbitrary axis-aligned rectangle (i.e. the axes of the rectangle are aligned with the axes of the image). As we'd like to handle Picasso portraits too, there are no constraints on the location or size of the rectangles. How many possible faces (choice of its component rectangles) are there? In general, we only care about asymptotic complexity, so give your answer in the form of $O(n^c)$ or $O(c^n)$ for some integer $c$."
   ]
  },
  {
   "cell_type": "markdown",
   "metadata": {},
   "source": [
    "*Solution*\n",
    "\n",
    "Let $x_1, x_2, x_3, x_4, x_5, x_6$ be the number of pixels assigned to one eye, the other eye, one ear, the other, the nose and the mouth. All we have to do is find the number of solutions of the inequality\n",
    "\n",
    "$$x_1+x_2+x_3+x_4+x_5+x_6\\leq n^2;\\hspace{1cm}x_i>0$$\n",
    "\n",
    "If we ignore the inequality and imagine its an equation (substitute the $\\leq$ for $=$) and suppose we accept nonnegative values ($x_i\\geq 0$), we can think of it as distributing $a = n^2$ pixels in $b=6$ different objects, with some repetitions (we can assign the same number of pixels to the eyes, for example). As Grimaldi says, we can do this in $C(b+a-1,a)$ different ways. If we only want the positive values, we can make new variables $y_i = x_i-1$, $i=1,...6$, so we get the following expression:\n",
    "\n",
    "$$y_1+y_2+y_3+y_4+y_5+y_6\\leq n^2-6;\\hspace{1cm}y_i\\geq 0$$\n",
    "\n",
    "Which has $\\sum_{i=3}^{n} \\binom{6+(i^2-6)-1}{i^2-6} = \\sum_{i=3}^{n} \\binom{i^2-1}{i^2-6}$ different solutions. (Should this be a factorial?)\n",
    "\n",
    "-----------------------------------------------------------"
   ]
  },
  {
   "cell_type": "markdown",
   "metadata": {},
   "source": [
    "2. Suppose we have an $n\\times n$ grid. We start in the upper-left corner (position $(1,1)$), and we would like to reach the lower-right corner (position $(n,n)$) by taking single steps down and right. Define a function $c(i, j)$ to be the cost of touching position $(i, j)$, and assume it takes constant time to compute. Note that $c(i, j)$ can be negative. Give an algorithm for computing the minimum cost in the most efficient way. What is the runtime (just give the big-O)?"
   ]
  },
  {
   "cell_type": "markdown",
   "metadata": {},
   "source": [
    "*Solution*\n",
    "\n",
    "If we make a binary tree for every decision we can make (whether to go down or right), we can think of this decisions as states with their respective costs. The following algorithm evaluates from the back to the origin:"
   ]
  },
  {
   "cell_type": "code",
   "execution_count": 159,
   "metadata": {
    "scrolled": true
   },
   "outputs": [
    {
     "name": "stdout",
     "output_type": "stream",
     "text": [
      "1\n",
      "2\n",
      "3\n",
      "4\n",
      "5\n",
      "6\n",
      "7\n",
      "8\n",
      "9\n",
      "10\n",
      "11\n",
      "12\n",
      "13\n",
      "14\n",
      "15\n",
      "16\n",
      "17\n",
      "18\n",
      "19\n"
     ]
    },
    {
     "data": {
      "text/plain": [
       "1"
      ]
     },
     "execution_count": 159,
     "metadata": {},
     "output_type": "execute_result"
    }
   ],
   "source": [
    "def min_c(i,j):\n",
    "    \n",
    "    global numCalls ####\n",
    "    numCalls += 1   \n",
    "    print(numCalls) #### comment this if you dont want it to display the number of calls\n",
    "    \n",
    "    if i==1 and j==1:                        # If im already at the origin, there's no cost to add\n",
    "        return 0\n",
    "    \n",
    "    elif i==1:                               #If im in the same row as the origin, I only want to move to the left:\n",
    "        return C[(i,j-1),(i,j)]+min_c(i,j-1) #The cost of one move plus the cost it will take\n",
    "                                             # to get from the (i,j-1)-th point to (1,1)\n",
    "    elif j==1:                               # If im in the same column as the origin, I only want to move up:\n",
    "        return C[(i-1,j),(i,j)]+min_c(i-1,j) #The cost of one move plus the cost it will take \n",
    "                                             # to get from the (i-1,j)-th point to (1,1)\n",
    "    \n",
    "    return min(C[(i-1,j),(i,j)]+min_c(i-1,j),C[(i,j-1),(i,j)]+min_c(i,j-1)) #Otherwise, I want to select the optimum\n",
    "                                                                            # strategy with its respective cost\n",
    "# I implemented this two grids that give the cost of moving from node (i,j) to node (k,l) at one hop of distance\n",
    "C = {                   #3x4 grid\n",
    "    ((1,1),(1,2)): 1,\n",
    "    ((1,1),(2,1)): 1,\n",
    "    ((1,2),(1,3)): 1,\n",
    "    ((1,2),(2,2)): 2,\n",
    "    ((2,1),(2,2)): 2,\n",
    "    ((2,1),(3,1)): 1,\n",
    "    ((1,3),(1,4)): 2,\n",
    "    ((1,3),(2,3)): 2,\n",
    "    ((2,2),(2,3)): 2,\n",
    "    ((2,2),(3,2)): 3,\n",
    "    ((3,1),(3,2)): 1,\n",
    "    ((1,4),(2,4)): 5,\n",
    "    ((2,3),(2,4)): 2,\n",
    "    ((2,3),(3,3)): -3, ##\n",
    "    ((3,2),(3,3)): 1,\n",
    "    ((2,4),(3,4)): 1,\n",
    "    ((3,3),(3,4)): 2\n",
    "}\n",
    "\n",
    "C_ = {                  #2x2 grid\n",
    "    ((1,1),(1,2)): 1,\n",
    "    ((1,1),(2,1)): 5,\n",
    "    ((1,2),(2,2)): 4,\n",
    "    ((2,1),(2,2)): 1\n",
    "}\n",
    "\n",
    "numCalls = 0\n",
    "min_c(3,3)"
   ]
  },
  {
   "cell_type": "markdown",
   "metadata": {},
   "source": [
    "Since the algorithm explores every path available, its complexity is $O\\left(\\frac{(i+j)!}{i!j!}\\right)$\n",
    "\n",
    "-------------------------------------"
   ]
  },
  {
   "cell_type": "markdown",
   "metadata": {},
   "source": [
    "3. Suppose we have a staircase with $n$ steps (we start on the ground, so we need $n$ total steps to reach the top). We can take as many steps forward at a time, but we will never step backwards. How many ways are there to reach the top? Give your answer as a function of $n$. For example: if $n = 3$, then the answer is $4$. The four options are the following: (1) take one step, take one step, take one step (2) take two steps, take one step (3) take one step, take two steps (4) take three steps."
   ]
  },
  {
   "cell_type": "markdown",
   "metadata": {},
   "source": [
    "*Solution*\n",
    "\n",
    "Recall from problem 2.1 that the number of solutions of the equation\n",
    "\n",
    "$$x_1+...+x_n=r;\\hspace{1cm}x_i\\geq 0,\\hspace{.2cm}i=1,...,n$$\n",
    "\n",
    "Is given by $C(n+r-1,r)$. We also saw that if we want this $x_i$ to be non-zero, we have to create new variables $y_i=x_1-1$. So, in resume, the number of solutions of the equation\n",
    "\n",
    "$$x_1+...+x_n=r;\\hspace{1cm}x_i> 0,\\hspace{.2cm}i=1,...,n$$\n",
    "\n",
    "Is given by $C(n+(r-n)-1,(r-n)) = C(r-1,r-n)$.\n",
    "\n",
    "If we manually enumerate the solutions when $n=4$: we see the following combinations:\n",
    "\n",
    "$$4|31,13,22|112,121,211|1111$$\n",
    "\n",
    "I separated them by length so we can think of every block (i.e. 112,121,221) as the number of positive solutions of the equation $\\sum_{i=1}^{n-(n-k)}x_i=k$. See, the first block will be the number of positive solutions of the equation $\\sum_{i=1}^{4-(4-1)}x_i=4$; the second block will be the number of positive solutions of the equation $\\sum_{i=1}^{4-(4-2)}x_i=4$; and so on. For example, the number of positive solutions of the last equation is $\\binom{2+(4-2)-1}{4-2}=3$. In general, the $ith$ equation will have $i$ variables and therefore $\\binom{i+(n-i)-1}{n-i}$ solutions. We clearly see that there'll be exactly $n$ equations, so the total number of ways we can reach the top of the staircase with $n$ steps is \n",
    "\n",
    "$$\\sum_{i=1}^n \\binom{i+(n-i)-1}{n-i} = \\sum_{i=1}^n \\binom{n-1}{n-i}$$\n",
    "\n",
    "If you want to try some values, you can use the function `some_sum(n)` with $n$ number of steps:"
   ]
  },
  {
   "cell_type": "code",
   "execution_count": 179,
   "metadata": {},
   "outputs": [
    {
     "data": {
      "text/plain": [
       "8.0"
      ]
     },
     "execution_count": 179,
     "metadata": {},
     "output_type": "execute_result"
    }
   ],
   "source": [
    "from functools import lru_cache\n",
    "\n",
    "@lru_cache()\n",
    "def fact(n):\n",
    "    if n<2:\n",
    "        return 1\n",
    "    return n*fact(n-1)\n",
    "\n",
    "def co(n,k):\n",
    "    return fact(n)/(fact(n-k)*fact(k))\n",
    "\n",
    "def some_sum(n):\n",
    "    return sum(co(n-1,n-i) for i in range(1,n+1))\n",
    "\n",
    "some_sum(4)"
   ]
  },
  {
   "cell_type": "markdown",
   "metadata": {},
   "source": [
    "The Python decorator `@lru_cache` is used to create a dict with the outputs of the function below, in order to make less calculations. (You should check it out, its pretty cool)\n",
    "\n",
    "--------------------------------------------"
   ]
  },
  {
   "cell_type": "markdown",
   "metadata": {},
   "source": [
    "4. Consider the scalar-valued function $f(\\mathbf w)$ from Problem 1e. Devise a strategy that first does preprocessing in $O(n d^2)$ time, and then for any given vector $\\mathbf w$, takes $O(d^2)$ time instead to compute $f(\\mathbf w)$.\n",
    "Hint: Refactor the algebraic expression; this is a classic trick used in machine learning. Again, you may find it helpful to work out the scalar case first."
   ]
  },
  {
   "cell_type": "markdown",
   "metadata": {},
   "source": [
    "*Solution*\n",
    "\n",
    "Recalling the solution to problem 1.5 and refactoring:\n",
    "\n",
    "$$\n",
    "\\begin{align}\n",
    "\\nabla f(\\mathbf w) & = \\sum_{i=1}^n\\sum_{j=1}^n 2(\\mathbf a_i -\\mathbf b_j)(\\mathbf a_i-\\mathbf b_j)^\\top\\mathbf w + 2\\lambda\\mathbf w \\\\\n",
    "& = \\left(\\sum_{i=1}^n\\sum_{j=1}^n 2(\\mathbf a_i -\\mathbf b_j)(\\mathbf a_i-\\mathbf b_j)^\\top\\right)\\mathbf w + 2\\lambda\\mathbb I\\mathbf w \\\\\n",
    "& = \\left(\\sum_{i=1}^n\\sum_{j=1}^n 2(\\mathbf a_i -\\mathbf b_j)(\\mathbf a_i-\\mathbf b_j)^\\top + 2\\lambda\\mathbb I\\right)\\mathbf w \n",
    "\\end{align}\n",
    "$$\n",
    "\n",
    "Thanks Sergio Arnaud (@SergioArnaud) for helping me out with this problem <3\n",
    "\n",
    "--------------------------------------------"
   ]
  }
 ],
 "metadata": {
  "kernelspec": {
   "display_name": "playground",
   "language": "python",
   "name": "playground"
  },
  "language_info": {
   "codemirror_mode": {
    "name": "ipython",
    "version": 3
   },
   "file_extension": ".py",
   "mimetype": "text/x-python",
   "name": "python",
   "nbconvert_exporter": "python",
   "pygments_lexer": "ipython3",
   "version": "3.7.7"
  }
 },
 "nbformat": 4,
 "nbformat_minor": 2
}
